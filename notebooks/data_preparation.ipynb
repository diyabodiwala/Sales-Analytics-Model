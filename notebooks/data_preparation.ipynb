import pandas as pd

# Load sales data
sales_data = pd.read_csv('data/sales_data.csv')

# Clean and transform data
sales_data['date'] = pd.to_datetime(sales_data['date'])
sales_data['product_category'] = sales_data['product_category'].astype('category')
sales_data['sales'] = sales_data['sales'].astype('float')

# Handle missing values
sales_data.fillna(sales_data.mean(), inplace=True)

# Create a datetime index
sales_data.set_index('date', inplace=True)

# Resample data to monthly frequency
sales_data_monthly = sales_data.resample('M').sum()
