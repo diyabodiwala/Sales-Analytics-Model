{
 "cells": [
  {
   "cell_type": "code",
   "execution_count": null,
   "id": "91ae6b26",
   "metadata": {},
   "outputs": [],
   "source": [
    "import matplotlib.pyplot as plt\n",
    "import seaborn as sns\n",
    "\n",
    "# Plot sales data\n",
    "plt.figure(figsize=(10,6))\n",
    "sns.lineplot(x=sales_data_monthly.index, y=sales_data_monthly['sales'])\n",
    "plt.title('Monthly Sales')\n",
    "plt.xlabel('Date')\n",
    "plt.ylabel('Sales')\n",
    "plt.show()\n",
    "\n",
    "# Calculate seasonality\n",
    "seasonality = sales_data_monthly.groupby(sales_data_monthly.index.month).mean()\n",
    "\n",
    "# Plot seasonality\n",
    "plt.figure(figsize=(10,6))\n",
    "sns.lineplot(x=seasonality.index, y=seasonality['sales'])\n",
    "plt.title('Seasonality')\n",
    "plt.xlabel('Month')\n",
    "plt.ylabel('Sales')\n",
    "plt.show()\n",
    "\n",
    "# Calculate trends\n",
    "trends = sales_data_monthly.rolling(window=12).mean()\n",
    "\n",
    "# Plot trends\n",
    "plt.figure(figsize=(10,6))\n",
    "sns.lineplot(x=trends.index, y=trends['sales'])\n",
    "plt.title('Trends')\n",
    "plt.xlabel('Date')\n",
    "plt.ylabel('Sales')\n",
    "plt.show()"
   ]
  }
 ],
 "metadata": {
  "kernelspec": {
   "display_name": "Python 3 (ipykernel)",
   "language": "python",
   "name": "python3"
  },
  "language_info": {
   "codemirror_mode": {
    "name": "ipython",
    "version": 3
   },
   "file_extension": ".py",
   "mimetype": "text/x-python",
   "name": "python",
   "nbconvert_exporter": "python",
   "pygments_lexer": "ipython3",
   "version": "3.9.12"
  }
 },
 "nbformat": 4,
 "nbformat_minor": 5
}
