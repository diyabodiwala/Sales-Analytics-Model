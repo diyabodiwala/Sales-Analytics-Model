{
 "cells": [
  {
   "cell_type": "code",
   "execution_count": null,
   "id": "5619d1a4",
   "metadata": {},
   "outputs": [],
   "source": [
    "from statsmodels.tsa.arima_model import ARIMA\n",
    "\n",
    "# Define the ARIMA model\n",
    "model = ARIMA(sales_data_monthly, order=(1,1,1))\n",
    "\n",
    "# Fit the model\n",
    "model_fit = model.fit()\n",
    "\n",
    "# Plot the residuals\n",
    "plt.figure(figsize=(10,6))\n",
    "sns.lineplot(x=model_fit.resid.index, y=model_fit.resid)\n",
    "plt.title('Residuals')\n",
    "plt.xlabel('Date')\n",
    "plt.ylabel('Residuals')\n",
    "plt.show()\n",
    "\n",
    "# Forecast future sales\n",
    "forecast = model_fit.forecast(steps=12)\n",
    "\n",
    "# Plot the forecast\n",
    "plt.figure(figsize=(10,6))\n",
    "sns.lineplot(x=forecast.index, y=forecast)\n",
    "plt.title('Forecast')\n",
    "plt.xlabel('Date')\n",
    "plt.ylabel('Sales')\n",
    "plt.show()"
   ]
  }
 ],
 "metadata": {
  "kernelspec": {
   "display_name": "Python 3 (ipykernel)",
   "language": "python",
   "name": "python3"
  },
  "language_info": {
   "codemirror_mode": {
    "name": "ipython",
    "version": 3
   },
   "file_extension": ".py",
   "mimetype": "text/x-python",
   "name": "python",
   "nbconvert_exporter": "python",
   "pygments_lexer": "ipython3",
   "version": "3.9.12"
  }
 },
 "nbformat": 4,
 "nbformat_minor": 5
}
